{
 "cells": [
  {
   "cell_type": "markdown",
   "metadata": {},
   "source": [
    "# Tomographic reconstruction of a 2D phase space distribution"
   ]
  },
  {
   "cell_type": "code",
   "execution_count": null,
   "metadata": {},
   "outputs": [],
   "source": [
    "import sys\n",
    "import importlib\n",
    "import numpy as np\n",
    "from matplotlib import pyplot as plt\n",
    "import proplot as pplt\n",
    "import seaborn as sns\n",
    "from tqdm import tqdm, trange\n",
    "from skimage.transform import radon\n",
    "from skimage.transform import iradon\n",
    "from scipy import interpolate\n",
    "\n",
    "import reconstruct as rec\n",
    "from tools import ap\n",
    "from tools import plotting as mplt\n",
    "from tools import utils"
   ]
  },
  {
   "cell_type": "code",
   "execution_count": null,
   "metadata": {},
   "outputs": [],
   "source": [
    "pplt.rc['axes.grid'] = False\n",
    "pplt.rc['cmap.discrete'] = False\n",
    "pplt.rc['cmap.sequential'] = 'dusk_r'\n",
    "pplt.rc['cmap.diverging'] = 'Vlag'\n",
    "pplt.rc['figure.facecolor'] = 'white'"
   ]
  },
  {
   "cell_type": "markdown",
   "metadata": {},
   "source": [
    "## Setup "
   ]
  },
  {
   "cell_type": "markdown",
   "metadata": {},
   "source": [
    "Create a distribution (Gaussian + four small Gaussian spots)."
   ]
  },
  {
   "cell_type": "code",
   "execution_count": null,
   "metadata": {},
   "outputs": [],
   "source": [
    "n = 100000  # number of particles\n",
    "eps = 10.0  # emittance [mm mrad]\n",
    "alpha = -0.7  # Twiss parameter\n",
    "beta = 15.0  # Twiss parameter [m/rad]\n",
    "V = ap.norm_matrix(alpha, beta)  # normalization matrix\n",
    "A = np.sqrt(np.diag([eps, eps]))  # scale by emittances\n",
    "\n",
    "# Generate particles in normalized phase space.\n",
    "offset = 2.0  # distance from origin to spots\n",
    "X_true_n = np.vstack([\n",
    "    np.random.normal(scale=[1.0, 1.0], loc=[0.0, 0.0], size=(n, 2)),\n",
    "    np.random.normal(scale=0.6, loc=[+offset, +offset], size=(n // 5, 2)),\n",
    "    np.random.normal(scale=0.6, loc=[+offset, -offset], size=(n // 5, 2)),\n",
    "    np.random.normal(scale=0.6, loc=[-offset, +offset], size=(n // 5, 2)),\n",
    "    np.random.normal(scale=0.6, loc=[-offset, -offset], size=(n // 5, 2)),\n",
    "])\n",
    "X_true_n /= np.sqrt(np.linalg.det(np.cov(X_true_n.T)))\n",
    "X_true_n = utils.apply(A, X_true_n)\n",
    "X_true = utils.apply(V, X_true_n)"
   ]
  },
  {
   "cell_type": "code",
   "execution_count": null,
   "metadata": {},
   "outputs": [],
   "source": [
    "fig, ax = pplt.subplots()\n",
    "sns.histplot(x=X_true[:, 0], y=X_true[:, 1], ax=ax,\n",
    "             thresh=None, cmap='dusk_r', colorbar=True, bins=75)\n",
    "ax.format(xlabel=\"x [mm]\", ylabel=\"x' [mrad]\")"
   ]
  },
  {
   "cell_type": "markdown",
   "metadata": {},
   "source": [
    "Define the reconstruction grid in normalized phase space."
   ]
  },
  {
   "cell_type": "code",
   "execution_count": null,
   "metadata": {
    "tags": []
   },
   "outputs": [],
   "source": [
    "n_bins = 75\n",
    "maxs_n = np.array([\n",
    "    np.sqrt(4.0 * eps),\n",
    "    np.sqrt(4.0 * eps),\n",
    "])\n",
    "maxs_n *= 1.0\n",
    "limits_n = np.array([(-m, m) for m in maxs_n])\n",
    "f_true_n, edges_rec = np.histogramdd(X_true_n, n_bins, limits_n)\n",
    "grid_rec = [\n",
    "    utils.get_bin_centers(edges_rec[0]),\n",
    "    utils.get_bin_centers(edges_rec[1]),\n",
    "]"
   ]
  },
  {
   "cell_type": "code",
   "execution_count": null,
   "metadata": {},
   "outputs": [],
   "source": [
    "fig, axes = pplt.subplots(ncols=2, sharex=False, sharey=False)\n",
    "axes[0].hist2d(X_true[:, 0], X_true[:, 1], bins=n_bins)\n",
    "axes[1].hist2d(X_true_n[:, 0], X_true_n[:, 1], bins=grid_rec)\n",
    "axes[0].format(xlabel=r\"$x$ [mm]\", ylabel=r\"$y$ [mm]\", title='')\n",
    "axes[1].format(xlabel=r\"$x_n$\", ylabel=r\"$x'_n$\", title='Normalized phase space')\n",
    "axes.format(suptitle='Distribution at reconstruction point')\n",
    "plt.show()"
   ]
  },
  {
   "cell_type": "markdown",
   "metadata": {},
   "source": [
    "## Simulate measurement"
   ]
  },
  {
   "cell_type": "markdown",
   "metadata": {},
   "source": [
    "We will scan the phase advance in a 180 degree range, then let $\\alpha$ and $\\beta$ take random values at the measurement location."
   ]
  },
  {
   "cell_type": "code",
   "execution_count": null,
   "metadata": {},
   "outputs": [],
   "source": [
    "n_proj = 15\n",
    "phase_advances = np.linspace(0.0, np.pi, n_proj, endpoint=False)\n",
    "betas = np.random.uniform(55.0, 75.0, size=n_proj)\n",
    "alphas = np.random.uniform(-1.5, +1.5, size=n_proj)\n",
    "xmax_meas = 65.0 # [mm]\n",
    "edges_meas = np.linspace(-xmax_meas, xmax_meas, n_bins + 1)\n",
    "grid_meas = 0.5 * (edges_meas[:-1] + edges_meas[1:])"
   ]
  },
  {
   "cell_type": "code",
   "execution_count": null,
   "metadata": {},
   "outputs": [],
   "source": [
    "tmats, projections = [], []\n",
    "for k in trange(n_proj):\n",
    "    # Compute the linear transfer matrix to the screen.\n",
    "    V2 = ap.norm_matrix(alphas[k], betas[k])\n",
    "    P = ap.phase_adv_matrix(phase_advances[k])\n",
    "    M = np.linalg.multi_dot([V2, P, np.linalg.inv(V)])\n",
    "    tmats.append(np.linalg.multi_dot([M, V]))\n",
    "    # Transport the distribution to the screen.\n",
    "    X_meas = utils.apply(M, X_true)    \n",
    "    # Compute the projection on the screen.\n",
    "    projection, _ = np.histogram(X_meas[:, 0], edges_meas)\n",
    "    projections.append(projection / np.sum(projection))"
   ]
  },
  {
   "cell_type": "code",
   "execution_count": null,
   "metadata": {},
   "outputs": [],
   "source": [
    "fig, ax = pplt.subplots()\n",
    "ax.pcolormesh(grid_meas, np.arange(n_proj), projections, ec='None', colorbar=True,)\n",
    "ax.format(xlabel=r'$x_b$', ytickminor=False, ylabel='Projection index')\n",
    "plt.show()"
   ]
  },
  {
   "cell_type": "markdown",
   "metadata": {
    "tags": []
   },
   "source": [
    "## Reconstruct "
   ]
  },
  {
   "cell_type": "code",
   "execution_count": null,
   "metadata": {},
   "outputs": [],
   "source": [
    "xx_meas = grid_meas\n",
    "xx_rec = grid_rec[0]\n",
    "proc_kws = dict(keep_positive=True)\n",
    "f_rec_n = rec.rec2D(projections, tmats, xx_meas, xx_rec, method='SART', proc_kws=proc_kws, iterations=5)"
   ]
  },
  {
   "cell_type": "code",
   "execution_count": null,
   "metadata": {},
   "outputs": [],
   "source": [
    "fig, axes = pplt.subplots(ncols=2)\n",
    "plot_kws = dict(ec='None', colorbar=True)\n",
    "axes[0].pcolormesh(grid_rec[0], grid_rec[1], f_true_n.T, **plot_kws)\n",
    "axes[1].pcolormesh(grid_rec[0], grid_rec[1], f_rec_n.T, **plot_kws)\n",
    "axes[0].set_title('True')\n",
    "axes[1].set_title('Reconstructed')\n",
    "axes.format(xlabel=r'$x_n$', ylabel=r\"$x'_n$\", suptitle='Normalized phase space')\n",
    "plt.show()"
   ]
  },
  {
   "cell_type": "code",
   "execution_count": null,
   "metadata": {},
   "outputs": [],
   "source": [
    "# Transform out of normalized phase space.\n",
    "f_rec, grid_rec_ = rec.transform(f_rec_n, V, grid_rec)\n",
    "f_rec = np.clip(f_rec, 0.0, None)\n",
    "\n",
    "# Bin the true distribution on the grid.\n",
    "edges_rec_ = [\n",
    "    rec.get_bin_edges(grid_rec_[0]),\n",
    "    rec.get_bin_edges(grid_rec_[1]),\n",
    "]\n",
    "f_true, _ = np.histogramdd(X_true, bins=edges_rec_)\n",
    "\n",
    "f_rec = f_rec / np.max(f_rec)\n",
    "f_true = f_true / np.max(f_true)"
   ]
  },
  {
   "cell_type": "code",
   "execution_count": null,
   "metadata": {},
   "outputs": [],
   "source": [
    "fig, axes = pplt.subplots(ncols=2)\n",
    "for ax, _f in zip(axes, [f_true, f_rec]):\n",
    "    mplt.plot_image(_f, x=grid_rec_[0], y=grid_rec_[1], ax=ax, colorbar=True)\n",
    "axes[0].set_title('True')\n",
    "axes[1].set_title('Reconstructed')\n",
    "axes.format(xlabel=r'$x$', ylabel=r\"$x'$\",\n",
    "            suptitle='Actual phase space')\n",
    "plt.show()"
   ]
  },
  {
   "cell_type": "markdown",
   "metadata": {},
   "source": [
    "## Aside: accuracy vs. number of projections and angular range"
   ]
  },
  {
   "cell_type": "code",
   "execution_count": null,
   "metadata": {},
   "outputs": [],
   "source": [
    "from skimage.transform import radon, iradon_sart, iradon\n",
    "\n",
    "n_bins = 50\n",
    "limits = [(grid_rec[0][0], grid_rec[0][-1]), (grid_rec[1][0], grid_rec[1][-1])]\n",
    "z_true, _, _ = np.histogram2d(X_true_n[:, 0], X_true_n[:, 1], bins=n_bins, \n",
    "                              range=limits, density=True)\n",
    "\n",
    "n_proj_list = np.arange(3, 30)\n",
    "max_angles = np.linspace(5., 180., 50, endpoint=False)\n",
    "errors = np.zeros((len(n_proj_list), len(max_angles)))    \n",
    "for i in trange(errors.shape[0]):\n",
    "    for j in range(errors.shape[1]):\n",
    "        angles = np.linspace(0., max_angles[j], n_proj_list[i])\n",
    "        projections = radon(z_true, theta=angles, circle=True)\n",
    "        z = iradon_sart(projections, theta=angles)\n",
    "        for _ in range(1):\n",
    "            z = iradon_sart(projections, theta=angles, image=z)\n",
    "        z = rec.process(z, keep_positive=True, density=True, limits=limits)\n",
    "        errors[i, j] = np.sqrt(np.sum((z - z_true)**2))"
   ]
  },
  {
   "cell_type": "code",
   "execution_count": null,
   "metadata": {},
   "outputs": [],
   "source": [
    "fig, ax = pplt.subplots()\n",
    "mplt.plot_image(\n",
    "    errors,\n",
    "    x=n_proj_list, \n",
    "    y=max_angles,\n",
    "    ax=ax,\n",
    "    discrete=True,\n",
    "    cmap='blues',\n",
    "    colorbar=True, \n",
    "    colorbar_kw=dict(label=r'Error $\\Vert f - f_{true} \\Vert$')\n",
    ")\n",
    "ax.format(yformatter='deg', ylabel='Angular range', xlabel='Number of projections')\n",
    "plt.show()"
   ]
  },
  {
   "cell_type": "code",
   "execution_count": null,
   "metadata": {},
   "outputs": [],
   "source": []
  }
 ],
 "metadata": {
  "kernelspec": {
   "display_name": "Python 3 (ipykernel)",
   "language": "python",
   "name": "python3"
  },
  "language_info": {
   "codemirror_mode": {
    "name": "ipython",
    "version": 3
   },
   "file_extension": ".py",
   "mimetype": "text/x-python",
   "name": "python",
   "nbconvert_exporter": "python",
   "pygments_lexer": "ipython3",
   "version": "3.9.12"
  }
 },
 "nbformat": 4,
 "nbformat_minor": 4
}
