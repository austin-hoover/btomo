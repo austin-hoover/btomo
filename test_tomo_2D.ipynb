{
 "cells": [
  {
   "cell_type": "markdown",
   "metadata": {},
   "source": [
    "# Tomographic reconstruction of a 2D phase space distribution"
   ]
  },
  {
   "cell_type": "code",
   "execution_count": null,
   "metadata": {},
   "outputs": [],
   "source": [
    "import sys\n",
    "import importlib\n",
    "import numpy as np\n",
    "from matplotlib import pyplot as plt\n",
    "import proplot as pplt\n",
    "import seaborn as sns\n",
    "from tqdm import tqdm, trange\n",
    "from skimage.transform import radon\n",
    "from skimage.transform import iradon\n",
    "from scipy import interpolate\n",
    "\n",
    "import reconstruct as rec\n",
    "from tools import ap\n",
    "from tools import plotting as mplt\n",
    "from tools import utils"
   ]
  },
  {
   "cell_type": "code",
   "execution_count": null,
   "metadata": {},
   "outputs": [],
   "source": [
    "pplt.rc['axes.grid'] = False\n",
    "pplt.rc['cmap.discrete'] = False\n",
    "pplt.rc['cmap.sequential'] = 'Mono_r'\n",
    "pplt.rc['cmap.diverging'] = 'Vlag'\n",
    "pplt.rc['figure.facecolor'] = 'white'"
   ]
  },
  {
   "cell_type": "markdown",
   "metadata": {},
   "source": [
    "## Setup "
   ]
  },
  {
   "cell_type": "markdown",
   "metadata": {},
   "source": [
    "Create a distribution."
   ]
  },
  {
   "cell_type": "code",
   "execution_count": null,
   "metadata": {},
   "outputs": [],
   "source": [
    "n = 300000  # number of particles\n",
    "eps = 10.0  # emittance [mm mrad]\n",
    "alpha = -0.7  # Twiss parameter\n",
    "beta = 15.0  # Twiss parameter [m/rad]\n",
    "\n",
    "# Gaussian + small four Gaussian spots\n",
    "offset = 2.0  # distance from origin to spots\n",
    "X_true_n = np.vstack([\n",
    "    np.random.normal(scale=[1.0, 1.0], loc=[0.0, 0.0], size=(n, 2)),\n",
    "    np.random.normal(scale=0.6, loc=[+offset, +offset], size=(n // 5, 2)),\n",
    "    np.random.normal(scale=0.6, loc=[+offset, -offset], size=(n // 5, 2)),\n",
    "    np.random.normal(scale=0.6, loc=[-offset, +offset], size=(n // 5, 2)),\n",
    "    np.random.normal(scale=0.6, loc=[-offset, -offset], size=(n // 5, 2)),\n",
    "])\n",
    "# X_true_n /= np.sqrt(np.linalg.det(np.cov(X_true_n.T)))\n",
    "                    \n",
    "A = np.sqrt(np.diag([eps, eps]))\n",
    "V1 = ap.norm_matrix(alpha, beta)\n",
    "\n",
    "X_true_n = utils.apply(A, X_true_n)\n",
    "X_true = utils.apply(V1, X_true_n)"
   ]
  },
  {
   "cell_type": "code",
   "execution_count": null,
   "metadata": {},
   "outputs": [],
   "source": [
    "importlib.reload(mplt)\n",
    "\n",
    "X = np.random.normal(size=(20000, 4))\n",
    "\n"
   ]
  },
  {
   "cell_type": "markdown",
   "metadata": {},
   "source": [
    "Define the reconstruction grid in normalized phase space."
   ]
  },
  {
   "cell_type": "code",
   "execution_count": null,
   "metadata": {},
   "outputs": [],
   "source": [
    "n_bins = 75\n",
    "limits_scale_fac = 1.7\n",
    "xmax_rec_n = limits_scale_fac * np.sqrt(4.0 * eps)\n",
    "xpmax_rec_n = limits_scale_fac * np.sqrt(4.0 * eps)\n",
    "rec_grid_edges = [\n",
    "    np.linspace(-xmax_rec_n, xmax_rec_n, n_bins + 1),\n",
    "    np.linspace(-xpmax_rec_n, xpmax_rec_n, n_bins + 1),\n",
    "]\n",
    "rec_grid_centers = [\n",
    "    utils.get_bin_centers(rec_grid_edges[0]),\n",
    "    utils.get_bin_centers(rec_grid_edges[1]),\n",
    "]"
   ]
  },
  {
   "cell_type": "code",
   "execution_count": null,
   "metadata": {},
   "outputs": [],
   "source": [
    "n_bins = 75\n",
    "fig, axes = pplt.subplots(ncols=2, sharex=False, sharey=False)\n",
    "axes[0].hist2d(X_true[:, 0], X_true[:, 1], bins=n_bins)\n",
    "Z_true_n, _, _, _ = axes[1].hist2d(X_true_n[:, 0], X_true_n[:, 1], bins=rec_grid_edges)\n",
    "axes[0].format(xlabel=\"x [mm]\", ylabel=\"y [mm]\", title='')\n",
    "axes[1].format(xlabel=r\"$x_n$\", ylabel=r\"$x'_n$\", title='Normalized phase space')\n",
    "axes.format(suptitle='Distribution at reconstruction point')\n",
    "plt.show()"
   ]
  },
  {
   "cell_type": "markdown",
   "metadata": {},
   "source": [
    "Simulate the measurements. We will scan the phase advance in a 180 degree range, then let $\\alpha$ and $\\beta$ take random values at the measurement location."
   ]
  },
  {
   "cell_type": "code",
   "execution_count": null,
   "metadata": {},
   "outputs": [],
   "source": [
    "n_proj = 15\n",
    "phase_advances = np.linspace(0.0, np.pi, n_proj, endpoint=False)\n",
    "betas = np.random.uniform(55.0, 75.0, size=n_proj)\n",
    "alphas = np.random.uniform(-1.5, +1.5, size=n_proj)\n",
    "xmax_screen = 90.0 # [mm]\n",
    "screen_xedges = np.linspace(-xmax_screen, xmax_screen, n_bins + 1)\n",
    "screen_xcenters = 0.5 * (screen_xedges[:-1] + screen_xedges[1:])"
   ]
  },
  {
   "cell_type": "code",
   "execution_count": null,
   "metadata": {},
   "outputs": [],
   "source": [
    "tmats, projections = [], []\n",
    "for k in trange(n_proj):\n",
    "    # Compute the linear transfer matrix to the screen.\n",
    "    V2 = ap_utils.V_matrix_2x2(alphas[k], betas[k])\n",
    "    P = utils.rotation_matrix(phase_advances[k])\n",
    "    M = np.linalg.multi_dot([V2, P, np.linalg.inv(V1)])\n",
    "    tmats.append(np.linalg.multi_dot([M, V1]))\n",
    "    # Transport the distribution to the screen.\n",
    "    X_meas = utils.apply(M, X_true)    \n",
    "    # Compute the projection on the screen.\n",
    "    projection, _ = np.histogram(X_meas[:, 0], screen_xedges)\n",
    "    projection / np.sum(projection)\n",
    "    projections.append(projection)"
   ]
  },
  {
   "cell_type": "code",
   "execution_count": null,
   "metadata": {},
   "outputs": [],
   "source": [
    "fig, ax = pplt.subplots()\n",
    "ax.pcolormesh(screen_xcenters, np.arange(n_proj), projections, ec='None', colorbar=True)\n",
    "ax.format(xlabel=r'$x_b$', ytickminor=False, ylabel='Projection index')\n",
    "plt.show()"
   ]
  },
  {
   "cell_type": "markdown",
   "metadata": {},
   "source": [
    "## Reconstruction "
   ]
  },
  {
   "cell_type": "code",
   "execution_count": null,
   "metadata": {},
   "outputs": [],
   "source": [
    "xx_meas = screen_xcenters\n",
    "xx_rec = rec_grid_centers[0]\n",
    "proc_kws = dict(keep_positive=True)\n",
    "Z_rec_n = rec.rec2D(projections, tmats, xx_meas, xx_rec, method='SART', proc_kws=proc_kws, iterations=5)"
   ]
  },
  {
   "cell_type": "code",
   "execution_count": null,
   "metadata": {},
   "outputs": [],
   "source": [
    "fig, axes = pplt.subplots(ncols=2)\n",
    "plot_kws = dict(ec='None')\n",
    "axes[0].pcolormesh(rec_grid_centers[0], rec_grid_centers[1], Z_true_n.T, **plot_kws)\n",
    "axes[1].pcolormesh(rec_grid_centers[0], rec_grid_centers[1], Z_rec_n.T, **plot_kws)\n",
    "axes[0].set_title('True')\n",
    "axes[1].set_title('Reconstructed')\n",
    "axes.format(xlabel=r'$x_n$', ylabel=r\"$x'_n$\", suptitle='Normalized phase space')\n",
    "plt.show()"
   ]
  },
  {
   "cell_type": "code",
   "execution_count": null,
   "metadata": {},
   "outputs": [],
   "source": [
    "# Transform out of normalized phase space.\n",
    "Z_rec, rec_grid_centers_ = rec.transform(Z_rec_n, V1, rec_grid_centers)\n",
    "Z_rec = np.clip(Z_rec, 0.0, None) # some small nonzero elements\n",
    "# Bin the true distribution on the grid.\n",
    "rec_grid_edges_ = [\n",
    "    rec.get_bin_edges(rec_grid_centers_[0]),\n",
    "    rec.get_bin_edges(rec_grid_centers_[1]),\n",
    "]\n",
    "Z_true, _, _ = np.histogram2d(X_true[:, 0], X_true[:, 1], bins=rec_grid_edges_)"
   ]
  },
  {
   "cell_type": "code",
   "execution_count": null,
   "metadata": {},
   "outputs": [],
   "source": [
    "fig, axes = pplt.subplots(ncols=2)\n",
    "axes[0].pcolormesh(rec_grid_centers_[0], rec_grid_centers_[1], Z_true.T, **plot_kws)\n",
    "axes[1].pcolormesh(rec_grid_centers_[0], rec_grid_centers_[1], Z_rec.T, **plot_kws)\n",
    "axes[0].set_title('True')\n",
    "axes[1].set_title('Reconstructed')\n",
    "axes.format(xlabel=r'$x$', ylabel=r\"$x'$\",\n",
    "            suptitle='Actual phase space')\n",
    "plt.show()"
   ]
  }
 ],
 "metadata": {
  "kernelspec": {
   "display_name": "Python 3",
   "language": "python",
   "name": "python3"
  },
  "language_info": {
   "codemirror_mode": {
    "name": "ipython",
    "version": 3
   },
   "file_extension": ".py",
   "mimetype": "text/x-python",
   "name": "python",
   "nbconvert_exporter": "python",
   "pygments_lexer": "ipython3",
   "version": "3.7.6"
  }
 },
 "nbformat": 4,
 "nbformat_minor": 4
}
