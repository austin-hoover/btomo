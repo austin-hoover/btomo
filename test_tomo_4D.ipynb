{
 "cells": [
  {
   "cell_type": "markdown",
   "id": "1f1a5354-a99b-4948-933f-03cfdee8eabd",
   "metadata": {},
   "source": [
    "# Benchmark of 4D phase space reconstruction algorithms "
   ]
  },
  {
   "cell_type": "code",
   "execution_count": null,
   "id": "ccb91799-3aa2-4f36-886b-52f5b5d71bd8",
   "metadata": {},
   "outputs": [],
   "source": [
    "import sys\n",
    "import importlib\n",
    "import numpy as np\n",
    "import pandas as pd\n",
    "from skimage import filters\n",
    "from matplotlib import pyplot as plt\n",
    "import proplot as pplt\n",
    "from tqdm.notebook import tqdm\n",
    "from tqdm.notebook import trange\n",
    "\n",
    "import reconstruct as rec\n",
    "from tools import ap\n",
    "from tools import analysis as ba\n",
    "from tools import plotting as mplt\n",
    "from tools import utils"
   ]
  },
  {
   "cell_type": "code",
   "execution_count": null,
   "id": "57a73ef5-0261-4fc1-a514-0ebd25f9554a",
   "metadata": {},
   "outputs": [],
   "source": [
    "pplt.rc['grid'] = False\n",
    "pplt.rc['cmap.sequential'] = 'dusk_r'\n",
    "pplt.rc['cmap.discrete'] = False\n",
    "pplt.rc['cmap.diverging'] = 'vlag'\n",
    "pplt.rc['figure.facecolor'] = 'white'\n",
    "pplt.rc['grid.alpha'] = 0.04"
   ]
  },
  {
   "cell_type": "markdown",
   "id": "e4e52eab-ee9c-4373-802f-68ccebf4e162",
   "metadata": {},
   "source": [
    "## Setup "
   ]
  },
  {
   "cell_type": "markdown",
   "id": "adfb2569-de81-4c71-836a-af55eb6ae910",
   "metadata": {},
   "source": [
    "Load the bunch. (Download data here: https://www.dropbox.com/sh/1f2yoh5n1wrgfxm/AAB0C__P9cKjcz7YzOA7iqmsa?dl=0. Each data set is an $N \\times 6$ array, where $N$ is the number of macroparticles. The columns are {x [mm], x' [mrad], y [mm], y' [mrad], z [mm], dE [MeV]}.). \n",
    "\n",
    "`coords_SNS_elliptical_painting_300turns.npy` is the output of a phase space painting simulation in the Spallation Neutron Source (SNS) ring with 600,000 macroparticles (28 MB). The injection kicker waveforms were chosen such that large linear cross-plane correlations were maintained in the transverse phase space.\n",
    "\n",
    "`2022-07-01_run_MEBT123_HZ04_VT34a_bunch.npy` is the output of a simulation of transport through the Beam Test Facility (BTF) with 10,000,000 macroparticles (480 MB). There are no linear $x$-$y$ correlations, but there are some higher-order $x$-$y$ correlations; there are also strong transverse-energy correlations, both linear and nonlinear."
   ]
  },
  {
   "cell_type": "code",
   "execution_count": null,
   "id": "32ce65b6-aad9-4b65-b044-3706ea418669",
   "metadata": {},
   "outputs": [],
   "source": [
    "filename = 'data/coords_SNS_elliptical_painting_300turns.npy'\n",
    "# filename = 'data/2022-07-01_run_MEBT123_HZ04_VT34a_bunch.npy'\n",
    "\n",
    "X = np.load(filename) \n",
    "X = X[:, :4]  # drop longitudinal coordinates\n",
    "print('X.shape =', X.shape)"
   ]
  },
  {
   "cell_type": "markdown",
   "id": "f6060341-1a55-4bf5-95d0-7f35b6a40756",
   "metadata": {},
   "source": [
    "Use a random sample of particles."
   ]
  },
  {
   "cell_type": "code",
   "execution_count": null,
   "id": "44c815d8-aadd-4309-8c21-844b1d6d22ac",
   "metadata": {},
   "outputs": [],
   "source": [
    "# X = utils.rand_rows(X, int(0.1 * X.shape[0]))"
   ]
  },
  {
   "cell_type": "markdown",
   "id": "ce645583-6ed8-4cd5-b7be-bd3ff56d9496",
   "metadata": {
    "jp-MarkdownHeadingCollapsed": true,
    "tags": []
   },
   "source": [
    "Normalize $x$-$x'$ and $y$-$y'$ using the statistical 2D Twiss parameters."
   ]
  },
  {
   "cell_type": "code",
   "execution_count": null,
   "id": "0b40b0e3-4126-43e2-bf36-7bb934ab1f54",
   "metadata": {},
   "outputs": [],
   "source": [
    "# Compute the statistical Twiss parameters.\n",
    "Sigma = np.cov(X.T)\n",
    "alpha_x, alpha_y, beta_x, beta_y = ba.twiss2D(Sigma)\n",
    "print('Statistical Twiss parameters:')\n",
    "print('  alpha_x = {}'.format(alpha_x))\n",
    "print('  alpha_y = {}'.format(alpha_y))\n",
    "print('  beta_x = {}'.format(beta_x))\n",
    "print('  beta_y = {}'.format(beta_y))\n",
    "\n",
    "# Normalize the distribution using the statistical Twiss parameters.\n",
    "V = ap.norm_matrix_4x4_uncoupled(alpha_x, alpha_y, beta_x, beta_y)\n",
    "Vinv = np.linalg.inv(V)\n",
    "Xn = utils.apply(Vinv, X)\n",
    "\n",
    "# Define the lattice Twiss parameters at the reconstruction point. \n",
    "# `dalpha` and `dbeta` are the maximum deviations from the statistical \n",
    "# Twiss parameters. This will affect the reconstruction accuracy since \n",
    "# the actual phase advances (i.e., projection angles in normalized phase \n",
    "# space) will be different than those assumed from the lattice model.\n",
    "state = np.random.RandomState()\n",
    "state.seed(17)\n",
    "dalpha = 0.0 * max(alpha_x, alpha_y)\n",
    "dbeta = 0.0 * max(beta_x, beta_y)\n",
    "alpha_x += np.random.uniform(-dalpha, dalpha)\n",
    "alpha_y += np.random.uniform(-dalpha, dalpha)\n",
    "beta_x += np.random.uniform(-dbeta, dbeta)\n",
    "beta_y += np.random.uniform(-dbeta, dbeta)\n",
    "print('Lattice Twiss parameters:')\n",
    "print('  alpha_x = {}'.format(alpha_x))\n",
    "print('  alpha_y = {}'.format(alpha_y))\n",
    "print('  beta_x = {}'.format(beta_x))\n",
    "print('  beta_y = {}'.format(beta_y))"
   ]
  },
  {
   "cell_type": "markdown",
   "id": "dcbfacfe-c1d1-4f21-a42a-abbd209b1e1a",
   "metadata": {},
   "source": [
    "Bin the normalized coordinates at the reconstruction location for later comparison with the reconstructed distribution. "
   ]
  },
  {
   "cell_type": "code",
   "execution_count": null,
   "id": "cb4414df-a488-4910-925f-3c53f17944d9",
   "metadata": {},
   "outputs": [],
   "source": [
    "# Define the 4D reconstruction grid.\n",
    "n_bins = 50  # same number of bins in x, x', y, y'\n",
    "limits_rec = mplt.auto_limits(Xn, sigma=3.25)  # (min, max) along each axis\n",
    "\n",
    "# Compute 4D histogram.\n",
    "f_true, edges_rec = np.histogramdd(Xn, n_bins, limits_rec, density=True)\n",
    "grid_rec = [rec.get_bin_centers(_edges) for _edges in edges_rec]\n",
    "bin_volume = rec.get_bin_volume(limits_rec, n_bins)"
   ]
  },
  {
   "cell_type": "markdown",
   "id": "10d12693-9ead-428c-b359-a8777b3b1a0a",
   "metadata": {},
   "source": [
    "View projections of the distribution."
   ]
  },
  {
   "cell_type": "code",
   "execution_count": null,
   "id": "1eb16faf-88be-4631-a11a-b1e2fb6d4a7e",
   "metadata": {},
   "outputs": [],
   "source": [
    "# Labels for plotting\n",
    "dims = [\"x\", \"x'\", \"y\", \"y'\"]  \n",
    "units = [\"mm\", \"mrad\", \"mm\", \"mrad\"]\n",
    "labels = [f\"{d} [{u}]\" for d, u in zip(dims, units)]\n",
    "dims_n = [d + r\"$_n$\" for d in dims]\n",
    "labels_n = dims_n\n",
    "\n",
    "# Show all 2D projections of the distribution in normalized phase space. The \n",
    "# units of all normalized coordinates are sqrt(mm*mrad), but are not printed.\n",
    "axes = mplt.corner(f_true, coords=grid_rec, diag_kind='line', labels=labels_n)\n",
    "plt.show()"
   ]
  },
  {
   "cell_type": "code",
   "execution_count": null,
   "id": "2d9ffc97-18d7-43a1-b4ac-f88b7c5a4195",
   "metadata": {},
   "outputs": [],
   "source": [
    "mplt.interactive_proj1d(f_true, coords=grid_rec, kind='step', dims=dims, slice_type='int')"
   ]
  },
  {
   "cell_type": "code",
   "execution_count": null,
   "id": "30c61cd3-0991-40af-bb7f-bd1c70150b08",
   "metadata": {},
   "outputs": [],
   "source": [
    "mplt.interactive_proj1d(f_true, coords=grid_rec, kind='step', dims=dims, slice_type='range')"
   ]
  },
  {
   "cell_type": "code",
   "execution_count": null,
   "id": "5a7b1b70-c9ae-45fb-8a85-eed134f85052",
   "metadata": {},
   "outputs": [],
   "source": [
    "mplt.interactive_proj2d(f_true, coords=grid_rec, dims=dims, slice_type='int')"
   ]
  },
  {
   "cell_type": "code",
   "execution_count": null,
   "id": "d9d38f4a-9ba0-4549-a38e-973384a8f315",
   "metadata": {},
   "outputs": [],
   "source": [
    "mplt.interactive_proj2d(f_true, coords=grid_rec, dims=dims, slice_type='range')"
   ]
  },
  {
   "cell_type": "markdown",
   "id": "a6370e89-898e-4c1d-8a75-7822c5f76153",
   "metadata": {},
   "source": [
    "## Reconstruction "
   ]
  },
  {
   "cell_type": "markdown",
   "id": "c42d966f-a7aa-4343-ac8d-85d1b41f3e37",
   "metadata": {},
   "source": [
    "We will reconstruct in normalized phase space so that the transfer matrices from reconstruction location to measurement location become rotations in $x$-$x'$ and $y$-$y'$ by angles equal to the phase advances."
   ]
  },
  {
   "cell_type": "markdown",
   "id": "f6a55cea-9c49-4230-8b9b-d78f50f49a88",
   "metadata": {},
   "source": [
    "### Hock's method"
   ]
  },
  {
   "cell_type": "markdown",
   "id": "e3dc79ff-a4dc-4435-9be6-1a0eba4d3ca0",
   "metadata": {},
   "source": [
    "This method is detailed here: https://www.sciencedirect.com/science/article/pii/S0168900213005202. It requires independent control of the horizontal and vertical phase advances and the measurement of the $x$-$y$ projection."
   ]
  },
  {
   "cell_type": "markdown",
   "id": "59d70937-3006-4161-80bb-c599a949f4fc",
   "metadata": {
    "tags": []
   },
   "source": [
    "Since the horizontal and vertical optics are varied independently, we can simulate the measurements by transporting $x$-$x'$ and $y$-$y'$ separately. We assume we can evenly space phase advances over 180 degrees. The Twiss parameters at the screen are randomly varied about their nominal values on each iteration."
   ]
  },
  {
   "cell_type": "code",
   "execution_count": null,
   "id": "104df6b6-4542-423c-a780-cb61cdec359f",
   "metadata": {},
   "outputs": [],
   "source": [
    "def make_tmats(phase_advances, betas, alphas, Vinv):\n",
    "    \"\"\"Return list of 2x2 transfer matrices.\n",
    "    \n",
    "    phase advances : phase advances from reconstruction location to measurement location\n",
    "    betas, alphas : Twiss parameters at measurement location\n",
    "    Vinv : normalizing matrix at reconstruction location\n",
    "    \"\"\"\n",
    "    tmats = []\n",
    "    for phase_adv, beta, alpha in zip(phase_advances, betas, alphas):\n",
    "        P = utils.rotation_matrix(phase_adv)\n",
    "        V_screen = ap.norm_matrix(alpha, beta)\n",
    "        tmats.append(np.linalg.multi_dot([V_screen, P, Vinv]))\n",
    "    return tmats"
   ]
  },
  {
   "cell_type": "code",
   "execution_count": null,
   "id": "7e128627-91d5-44d9-981e-3a2755127627",
   "metadata": {},
   "outputs": [],
   "source": [
    "K = 12  # number of horizontal optics settings\n",
    "L = 12  # number of vertical optics settings\n",
    "\n",
    "phase_adv_x = np.linspace(0.0, np.pi, K, endpoint=False)\n",
    "betas_x = np.random.uniform(1.0, 3.0, size=K)\n",
    "alphas_x = np.random.uniform(-0.2, 0.2, size=K)\n",
    "\n",
    "phase_adv_y = np.linspace(0.0, np.pi, L, endpoint=False)\n",
    "betas_y = np.random.uniform(1.0, 3.0, size=L)\n",
    "alphas_y = np.random.uniform(-0.2, 0.2, size=L)\n",
    "\n",
    "# Store list of x and y coordinates for each run.\n",
    "tmats_x = make_tmats(phase_adv_x, betas_x, alphas_x, Vinv[:2, :2])\n",
    "tmats_y = make_tmats(phase_adv_y, betas_y, alphas_y, Vinv[2:, 2:])\n",
    "print('Transporting x-x.')\n",
    "xx_list = [utils.apply(Mx, X[:, :2])[:, 0] for Mx in tqdm(tmats_x)]\n",
    "print('Transporting y-y.')\n",
    "yy_list = [utils.apply(My, X[:, 2:])[:, 0] for My in tqdm(tmats_y)]"
   ]
  },
  {
   "cell_type": "markdown",
   "id": "c88f7553-108a-4a54-b1f4-52d721834c84",
   "metadata": {},
   "source": [
    "Bin the coordinates on the screen."
   ]
  },
  {
   "cell_type": "code",
   "execution_count": null,
   "id": "539dda2e-48b2-45d5-9709-8df560b94181",
   "metadata": {},
   "outputs": [],
   "source": [
    "# Define measurement grid size and resolution.\n",
    "n_bins_meas = 50  # resolution of measured images\n",
    "pad = 0.0  # fractional padding on min/max measured coordinates\n",
    "xmax_meas = (1.0 + pad) * np.max(np.abs(xx_list))\n",
    "ymax_meas = (1.0 + pad) * np.max(np.abs(yy_list))\n",
    "\n",
    "# Create the measurement grid.\n",
    "edges_meas = [\n",
    "    np.linspace(-xmax_meas, xmax_meas, n_bins_meas + 1),\n",
    "    np.linspace(-ymax_meas, ymax_meas, n_bins_meas + 1),\n",
    "]\n",
    "grid_meas = [rec.get_bin_centers(_edges) for _edges in edges_meas]\n",
    "\n",
    "# Bins the coordinates on the measurement grid.\n",
    "S = np.zeros((n_bins, n_bins, K, L))\n",
    "for k, xx in enumerate(tqdm(xx_list)):\n",
    "    for l, yy in enumerate(yy_list):\n",
    "        S[:, :, k, l], _, _ = np.histogram2d(xx, yy, edges_meas)"
   ]
  },
  {
   "cell_type": "code",
   "execution_count": null,
   "id": "8b4dec68",
   "metadata": {},
   "outputs": [],
   "source": [
    "fig, axes = pplt.subplots(nrows=K, ncols=L, figwidth=10, space=0.175)\n",
    "for i in range(axes.shape[0]):\n",
    "    for j in range(axes.shape[1]):\n",
    "        ax = axes[i, j]\n",
    "        mplt.plot_image(S[..., i, j], x=grid_meas[0], y=grid_meas[1], ax=ax)\n",
    "axes.format(\n",
    "    xticks=[], yticks=[], \n",
    "    xlabel='x', ylabel='y',\n",
    "    suptitle='simulated images',\n",
    ")\n",
    "plt.show()"
   ]
  },
  {
   "cell_type": "markdown",
   "id": "f1c64276-3784-4b6e-894f-420107cd588d",
   "metadata": {},
   "source": [
    "Reconstruct the normalized phase space distribution."
   ]
  },
  {
   "cell_type": "code",
   "execution_count": null,
   "id": "03cebee9-d166-42a9-8a5c-b86a9b19277f",
   "metadata": {},
   "outputs": [],
   "source": [
    "tmats_x_n = [np.matmul(Mx, V[:2, :2]) for Mx in tmats_x]\n",
    "tmats_y_n = [np.matmul(My, V[2:, 2:]) for My in tmats_y]"
   ]
  },
  {
   "cell_type": "code",
   "execution_count": null,
   "id": "2e1c2bdc-ab93-4aa0-be2b-b98b47c678bc",
   "metadata": {},
   "outputs": [],
   "source": [
    "f_rec = rec.hock4D(S, grid_meas, (grid_rec[0], grid_rec[2]),\n",
    "                    tmats_x_n, tmats_y_n, method='SART', iterations=3)\n",
    "f_rec = rec.process(f_rec, keep_positive=True, density=True, limits=limits_rec)"
   ]
  },
  {
   "cell_type": "code",
   "execution_count": null,
   "id": "6802f1d0-cfd6-47fa-bc4e-2c1f09102fd9",
   "metadata": {},
   "outputs": [],
   "source": [
    "print('min(f_rec) = {}'.format(np.min(f_rec)))\n",
    "print('max(f_rec) = {}'.format(np.max(f_rec)))\n",
    "print('sum(f_rec) * bin_volume = {}'.format(np.sum(f_rec) * bin_volume))\n",
    "print()\n",
    "print('min(f_true) = {}'.format(np.min(f_true)))\n",
    "print('max(f_true) = {}'.format(np.max(f_true)))\n",
    "print('sum(f_true) * bin_volume = {}'.format(np.sum(f_true) * bin_volume))"
   ]
  },
  {
   "cell_type": "code",
   "execution_count": null,
   "id": "2f60bdc4-fce6-4670-8a5e-8b061e190388",
   "metadata": {},
   "outputs": [],
   "source": [
    "def plot_compare_1D(f1, f2):\n",
    "    fig, axes = pplt.subplots(ncols=6, nrows=3, figwidth=8, space=0.5)\n",
    "    inds = [(0, 2), (0, 1), (2, 3), (0, 3), (2, 1), (1, 3)]\n",
    "    for j, ind in enumerate(inds):\n",
    "        x = grid_rec[ind[0]]\n",
    "        y = grid_rec[ind[1]]\n",
    "        im1 = rec.project(f1, ind)\n",
    "        im2 = rec.project(f2, ind)\n",
    "        # Need to use absolue difference `np.abs(im1 - im2)` if using log norm.\n",
    "        for ax, H in zip(axes[:, j], [im1, im2, im1 - im2]):\n",
    "            mplt.plot_image(H, ax=ax, \n",
    "                            # norm='log', handle_log='floor',\n",
    "                           )\n",
    "        axes[0, j].format(title=f'{dims[ind[0]]}-{dims[ind[1]]}')\n",
    "    axes.format(xticks=[], yticks=[], leftlabels=['Reconstructed', 'True', 'Difference'])\n",
    "    plt.show()"
   ]
  },
  {
   "cell_type": "code",
   "execution_count": null,
   "id": "ca30f63b-0875-4159-9da9-d76008532917",
   "metadata": {},
   "outputs": [],
   "source": [
    "axes = plot_compare_1D(f_rec, f_true)"
   ]
  },
  {
   "cell_type": "code",
   "execution_count": null,
   "id": "c506743a-4b88-48ab-95ac-2712f82f2911",
   "metadata": {},
   "outputs": [],
   "source": [
    "f_err = f_rec / np.max(f_rec) - f_true / np.max(f_true)\n",
    "mplt.interactive_proj1d(f_err, kind='line', dims=dims, coords=grid_rec)"
   ]
  },
  {
   "cell_type": "code",
   "execution_count": null,
   "id": "32ea29f3-bace-4b49-86a5-d55f1afbd1a0",
   "metadata": {},
   "outputs": [],
   "source": [
    "mplt.interactive_proj2d(f_rec, dims=dims, coords=grid_rec)"
   ]
  },
  {
   "cell_type": "markdown",
   "id": "1f7081ff-f7ff-4b86-974d-8a5feb1fe573",
   "metadata": {},
   "source": [
    "## 4D ART "
   ]
  },
  {
   "cell_type": "markdown",
   "id": "4ecae19f-9a72-44ce-a8ec-bb316de0e59a",
   "metadata": {},
   "source": [
    "This method is described here: https://journals.aps.org/prab/abstract/10.1103/PhysRevAccelBeams.23.032804. The maximum reconstruction grid resolution $N$ for this method is approximately 50. I have run $N = 50$ with $8 \\times 8$ projections in approximately 8 hours. $N = 25$ executes in few minutes with the same number of projections.\n",
    "\n",
    "The accuracy is okay with $N = 50$ and $8 \\times 8$ projections; in general, there are streaking artifacts in $x$-$x'$ that would probably go away if we could use more projections. I also found some improvements if I don't scale the measured projections; i.e., when the transfer matrices are really just rotation matrices."
   ]
  },
  {
   "cell_type": "code",
   "execution_count": null,
   "id": "15320ebc-3f63-469e-8864-abcac20b0859",
   "metadata": {},
   "outputs": [],
   "source": [
    "n_bins = 30\n",
    "f_true, edges_rec = np.histogramdd(Xn, n_bins, limits_rec, density=True)\n",
    "grid_rec = [rec.get_bin_centers(_edges) for _edges in edges_rec]\n",
    "bin_volume = rec.get_bin_volume(limits_rec, n_bins)\n",
    "\n",
    "n_bins_meas = 30\n",
    "edges_meas = [\n",
    "    np.linspace(-xmax_meas, xmax_meas, n_bins_meas + 1),\n",
    "    np.linspace(-ymax_meas, ymax_meas, n_bins_meas + 1),\n",
    "]\n",
    "grid_meas = [rec.get_bin_centers(_edges) for _edges in edges_meas]"
   ]
  },
  {
   "cell_type": "markdown",
   "id": "c44c2058-2bd8-49a3-a2f9-6b23d4f421d4",
   "metadata": {
    "tags": []
   },
   "source": [
    "Simulate measurements with a new screen resolution and number of projections."
   ]
  },
  {
   "cell_type": "code",
   "execution_count": null,
   "id": "a70e95d7-a553-4f0c-88f8-910c4fb7eb7a",
   "metadata": {},
   "outputs": [],
   "source": [
    "K = 8  # number of horizontal optics settings\n",
    "L = 8  # number of vertical optics settings\n",
    "\n",
    "phase_adv_x = np.linspace(0.0, np.pi, K, endpoint=False)\n",
    "betas_x = np.random.uniform(1.0, 1.0, size=K)\n",
    "alphas_x = np.random.uniform(0.0, 0.0, size=K)\n",
    "\n",
    "phase_adv_y = np.linspace(0.0, np.pi, L, endpoint=False)\n",
    "betas_y = np.random.uniform(1.0, 1.0, size=L)\n",
    "alphas_y = np.random.uniform(0.0, 0.0, size=L)\n",
    "\n",
    "tmats_x = make_tmats(phase_adv_x, betas_x, alphas_x, Vinv[:2, :2])\n",
    "tmats_y = make_tmats(phase_adv_y, betas_y, alphas_y, Vinv[2:, 2:])\n",
    "print('Transporting x-x')\n",
    "xx_list = [utils.apply(Mx, X[:, :2])[:, 0] for Mx in tqdm(tmats_x)]\n",
    "print('Transporting y-y')\n",
    "yy_list = [utils.apply(My, X[:, 2:])[:, 0] for My in tqdm(tmats_y)]"
   ]
  },
  {
   "cell_type": "code",
   "execution_count": null,
   "id": "7f505644-74b2-4d7c-a637-2014acd7066d",
   "metadata": {},
   "outputs": [],
   "source": [
    "tmats_x_n = [np.matmul(Mx, V[:2, :2]) for Mx in tmats_x]\n",
    "tmats_y_n = [np.matmul(My, V[2:, 2:]) for My in tmats_y]\n",
    "projections, tmats_n = [], []\n",
    "for xx, Mx in tqdm(zip(xx_list, tmats_x_n)):\n",
    "    for yy, My in zip(yy_list, tmats_y_n):\n",
    "        projection, _, _ = np.histogram2d(xx, yy, edges_meas)\n",
    "        projections.append(projection)\n",
    "        M = np.zeros((4, 4))\n",
    "        M[:2, :2] = Mx\n",
    "        M[2:, 2:] = My\n",
    "        tmats_n.append(M)"
   ]
  },
  {
   "cell_type": "markdown",
   "id": "ae13488f-9938-47d8-8157-fa5e4148e152",
   "metadata": {},
   "source": [
    "Launch the reconstruction."
   ]
  },
  {
   "cell_type": "code",
   "execution_count": null,
   "id": "67674c64-e362-40f4-82db-888535c9215c",
   "metadata": {
    "scrolled": true,
    "tags": []
   },
   "outputs": [],
   "source": [
    "f_rec = rec.art4D(projections, tmats_n, grid_rec, grid_meas)\n",
    "f_rec = rec.process(f_rec, keep_positive=True, density=True, limits=limits_rec)"
   ]
  },
  {
   "cell_type": "code",
   "execution_count": null,
   "id": "ec1eaac7-1d21-46c9-9cb9-56e5fac72e43",
   "metadata": {},
   "outputs": [],
   "source": [
    "axes = plot_compare_1D(f_rec, f_true)"
   ]
  },
  {
   "cell_type": "code",
   "execution_count": null,
   "id": "3e4aac78-cf56-49d3-93fe-b048117d0f68",
   "metadata": {},
   "outputs": [],
   "source": [
    "mplt.interactive_proj2d(f_rec, dims=dims, coords=grid_rec)"
   ]
  },
  {
   "cell_type": "code",
   "execution_count": null,
   "id": "d04e6388-f284-4ed7-b1c5-f70731f5be0f",
   "metadata": {},
   "outputs": [],
   "source": []
  }
 ],
 "metadata": {
  "kernelspec": {
   "display_name": "Python 3 (ipykernel)",
   "language": "python",
   "name": "python3"
  },
  "language_info": {
   "codemirror_mode": {
    "name": "ipython",
    "version": 3
   },
   "file_extension": ".py",
   "mimetype": "text/x-python",
   "name": "python",
   "nbconvert_exporter": "python",
   "pygments_lexer": "ipython3",
   "version": "3.9.12"
  }
 },
 "nbformat": 4,
 "nbformat_minor": 5
}
