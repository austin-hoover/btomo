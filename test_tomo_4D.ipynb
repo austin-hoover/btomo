{
 "cells": [
  {
   "cell_type": "markdown",
   "id": "1f1a5354-a99b-4948-933f-03cfdee8eabd",
   "metadata": {},
   "source": [
    "# Benchmark of 4D phase space reconstruction algorithms "
   ]
  },
  {
   "cell_type": "code",
   "execution_count": null,
   "id": "ccb91799-3aa2-4f36-886b-52f5b5d71bd8",
   "metadata": {},
   "outputs": [],
   "source": [
    "import sys\n",
    "import importlib\n",
    "import numpy as np\n",
    "from skimage import filters\n",
    "from matplotlib import pyplot as plt\n",
    "import proplot as pplt\n",
    "from tqdm.notebook import tqdm\n",
    "from tqdm.notebook import trange\n",
    "\n",
    "import reconstruct as rec"
   ]
  },
  {
   "cell_type": "code",
   "execution_count": null,
   "id": "57a73ef5-0261-4fc1-a514-0ebd25f9554a",
   "metadata": {},
   "outputs": [],
   "source": [
    "pplt.rc['grid'] = False\n",
    "pplt.rc['cmap.discrete'] = False\n",
    "pplt.rc['figure.facecolor'] = 'white'\n",
    "pplt.rc['cmap.sequential'] = 'viridis'\n",
    "pplt.rc['grid.alpha'] = 0.04"
   ]
  },
  {
   "cell_type": "markdown",
   "id": "e4e52eab-ee9c-4373-802f-68ccebf4e162",
   "metadata": {},
   "source": [
    "## Setup "
   ]
  },
  {
   "cell_type": "code",
   "execution_count": null,
   "id": "32ce65b6-aad9-4b65-b044-3706ea418669",
   "metadata": {},
   "outputs": [],
   "source": [
    "X = np.load('data/coords_SNS_elliptical_painting_300turns.npy')\n",
    "X = X[:, :4]\n",
    "X = X - np.mean(X, axis=0)"
   ]
  },
  {
   "cell_type": "markdown",
   "id": "ce645583-6ed8-4cd5-b7be-bd3ff56d9496",
   "metadata": {
    "jp-MarkdownHeadingCollapsed": true,
    "tags": []
   },
   "source": [
    "Compute the 2D Twiss parameters; normalize $x$-$x'$ and $y$-$y'$."
   ]
  },
  {
   "cell_type": "code",
   "execution_count": null,
   "id": "3f9bd43c-3015-411d-bcaf-ffc11edea90d",
   "metadata": {},
   "outputs": [],
   "source": [
    "import tools.analysis as ba\n",
    "from tools import ap_utils\n",
    "from tools import utils"
   ]
  },
  {
   "cell_type": "code",
   "execution_count": null,
   "id": "0b40b0e3-4126-43e2-bf36-7bb934ab1f54",
   "metadata": {},
   "outputs": [],
   "source": [
    "Sigma = np.cov(X.T)\n",
    "alpha_x, alpha_y, beta_x, beta_y = ba.twiss2D(Sigma)\n",
    "print('Statistical Twiss parameters:')\n",
    "print('  alpha_x = {}'.format(alpha_x))\n",
    "print('  alpha_y = {}'.format(alpha_y))\n",
    "print('  beta_x = {}'.format(beta_x))\n",
    "print('  beta_y = {}'.format(beta_y))\n",
    "\n",
    "# Define the lattice Twiss parameters. (If `dalpha` and `dbeta` are nonzero, \n",
    "# the lattice Twiss parameters will be different than the statistical Twiss\n",
    "# parameters. \n",
    "np.random.seed(17)\n",
    "dalpha = 0.0\n",
    "dbeta = 0.0 * max(beta_x, beta_y)\n",
    "alpha_x += np.random.uniform(-dalpha, dalpha)\n",
    "alpha_y += np.random.uniform(-dalpha, dalpha)\n",
    "beta_x += np.random.uniform(-dbeta, dbeta)\n",
    "beta_y += np.random.uniform(-dbeta, dbeta)\n",
    "print('Lattice Twiss parameters:')\n",
    "print('  alpha_x = {}'.format(alpha_x))\n",
    "print('  alpha_y = {}'.format(alpha_y))\n",
    "print('  beta_x = {}'.format(beta_x))\n",
    "print('  beta_y = {}'.format(beta_y))\n",
    "\n",
    "V = ap_utils.V_matrix_4x4_uncoupled(alpha_x, alpha_y, beta_x, beta_y)\n",
    "Vinv = np.linalg.inv(V)\n",
    "Xn = utils.apply(Vinv, X)"
   ]
  },
  {
   "cell_type": "markdown",
   "id": "dcbfacfe-c1d1-4f21-a42a-abbd209b1e1a",
   "metadata": {},
   "source": [
    "Bin the normalized coordinates at the reconstruction location."
   ]
  },
  {
   "cell_type": "code",
   "execution_count": null,
   "id": "cb4414df-a488-4910-925f-3c53f17944d9",
   "metadata": {},
   "outputs": [],
   "source": [
    "n_bins = 20"
   ]
  },
  {
   "cell_type": "code",
   "execution_count": null,
   "id": "a54ed566-5d09-4a1e-9e67-9023f79224e2",
   "metadata": {},
   "outputs": [],
   "source": [
    "import tools.plotting as mplt"
   ]
  },
  {
   "cell_type": "code",
   "execution_count": null,
   "id": "bfff2c10-fc85-4269-8e7d-454016f5b5e1",
   "metadata": {},
   "outputs": [],
   "source": [
    "axes = mplt.corner(Xn, figsize=(6, 6), bins=n_bins, autolim_kws=dict(sigma=3.5))\n",
    "rec_limits = [ax.get_xlim() for ax in axes[-1, :]]"
   ]
  },
  {
   "cell_type": "code",
   "execution_count": null,
   "id": "f5dfb7c0-ecbd-494b-860d-4372eeef5bb0",
   "metadata": {},
   "outputs": [],
   "source": [
    "Z_true, rec_edges = np.histogramdd(Xn, n_bins, rec_limits, density=True)\n",
    "rec_centers = [rec.get_bin_centers(_edges) for _edges in rec_edges]\n",
    "bin_volume = rec.get_bin_volume(rec_limits, n_bins)"
   ]
  },
  {
   "cell_type": "markdown",
   "id": "59d70937-3006-4161-80bb-c599a949f4fc",
   "metadata": {
    "tags": []
   },
   "source": [
    "Transport the distribution to the screen. Since the horizontal and vertical optics are varied independently, we can transport $x$-$x'$ and $y$-$y'$ independently. Assume the phase advances are evenly spaced over 180 degrees. The Twiss parameters at the screen are randomly chosen in a realistic range."
   ]
  },
  {
   "cell_type": "code",
   "execution_count": null,
   "id": "104df6b6-4542-423c-a780-cb61cdec359f",
   "metadata": {},
   "outputs": [],
   "source": [
    "def make_tmats(phase_advances, betas, alphas, Vinv):\n",
    "    \"\"\"Return list of 2x2 transfer matrices.\"\"\"\n",
    "    tmats = []\n",
    "    for phase_adv, beta, alpha in zip(phase_advances, betas, alphas):\n",
    "        P = utils.rotation_matrix(phase_adv)\n",
    "        V_screen = ap_utils.V_matrix_2x2(alpha, beta)\n",
    "        tmats.append(np.linalg.multi_dot([V_screen, P, Vinv]))\n",
    "    return tmats"
   ]
  },
  {
   "cell_type": "code",
   "execution_count": null,
   "id": "7e128627-91d5-44d9-981e-3a2755127627",
   "metadata": {},
   "outputs": [],
   "source": [
    "K = 12  # number of horizontal optics settings\n",
    "L = 12  # number of vertical optics settings\n",
    "\n",
    "phase_adv_x = np.linspace(0.0, np.pi, K, endpoint=False)\n",
    "betas_x = np.random.uniform(1.0, 1.0, size=K)\n",
    "alphas_x = np.random.uniform(0.0, 0.0, size=K)\n",
    "\n",
    "phase_adv_y = np.linspace(0.0, np.pi, L, endpoint=False)\n",
    "betas_y = np.random.uniform(1.0, 1.0, size=L)\n",
    "alphas_y = np.random.uniform(0.0, 0.0, size=L)\n",
    "\n",
    "tmats_x = make_tmats(phase_adv_x, betas_x, alphas_x, Vinv[:2, :2])\n",
    "tmats_y = make_tmats(phase_adv_y, betas_y, alphas_y, Vinv[2:, 2:])\n",
    "xx_list = [utils.apply(Mx, X[:, :2])[:, 0] for Mx in tqdm(tmats_x)]\n",
    "yy_list = [utils.apply(My, X[:, 2:])[:, 0] for My in tqdm(tmats_y)]"
   ]
  },
  {
   "cell_type": "markdown",
   "id": "c88f7553-108a-4a54-b1f4-52d721834c84",
   "metadata": {},
   "source": [
    "Bin the coordinates on the screen."
   ]
  },
  {
   "cell_type": "code",
   "execution_count": null,
   "id": "e3580f50-0ddd-43d1-8bbd-7722db7b3c81",
   "metadata": {},
   "outputs": [],
   "source": [
    "# xmax_screen = ymax_screen = 75.0 # [mm]\n",
    "# meas_edges = [\n",
    "#     np.linspace(-xmax_screen, xmax_screen, n_bins + 1),\n",
    "#     np.linspace(-xmax_screen, xmax_screen, n_bins + 1),\n",
    "# ]\n",
    "meas_edges = [rec_edges[0], rec_edges[1]]\n",
    "meas_centers = [rec.get_bin_centers(_edges) for _edges in meas_edges]"
   ]
  },
  {
   "cell_type": "code",
   "execution_count": null,
   "id": "dac85a51-575a-4c1b-adfc-25c1c76237c0",
   "metadata": {},
   "outputs": [],
   "source": [
    "x_list, xp_list, y_list, yp_list = [], [], [], []\n",
    "for Mx in tqdm(tmats_x):\n",
    "    x, xp = utils.apply(Mx, X[:, :2]).T\n",
    "    x_list.append(x)\n",
    "    xp_list.append(xp)\n",
    "for My in tqdm(tmats_y):\n",
    "    y, yp = utils.apply(My, X[:, 2:]).T\n",
    "    y_list.append(y)\n",
    "    yp_list.append(yp)\n",
    "\n",
    "Sigmas = []\n",
    "for (x, xp) in tqdm(zip(x_list, xp_list)):\n",
    "    for (y, yp) in zip(y_list, yp_list):\n",
    "        Y = np.vstack([x, xp, y, yp]).T\n",
    "        Sigmas.append(np.cov(Y.T))"
   ]
  },
  {
   "cell_type": "code",
   "execution_count": null,
   "id": "84fd23a2-61bc-4b8c-9b77-b5191083e40c",
   "metadata": {},
   "outputs": [],
   "source": [
    "S = np.zeros((n_bins, n_bins, K, L))\n",
    "for k, xx in enumerate(tqdm(xx_list)):\n",
    "    for l, yy in enumerate(yy_list):\n",
    "        S[:, :, k, l], _, _ = np.histogram2d(xx, yy, meas_edges)"
   ]
  },
  {
   "cell_type": "code",
   "execution_count": null,
   "id": "c80b7927-e4a6-4025-90ab-3c40e14618fd",
   "metadata": {},
   "outputs": [],
   "source": [
    "# fig, axes = pplt.subplots(nrows=3, ncols=5, figwidth=8.5, space=0.25)\n",
    "# for k, ax in enumerate(axes):\n",
    "#     ax.pcolormesh(S[:, :, k, 0].T, cmap='mono_r', ec='None')\n",
    "#     ax.annotate(r'$\\mu_x = {:.0f}\\degree$'.format(np.degrees(phase_adv_x[k])), \n",
    "#                 xy=(0.01, 0.93), xycoords='axes fraction', color='white', fontsize='small')\n",
    "# axes.format(xlabel=r\"$x$\", ylabel=r\"$y$\", xticks=[], yticks=[])\n",
    "# plt.savefig('_output/tomo_sim_target_scan.png', dpi=500)\n",
    "# plt.show()"
   ]
  },
  {
   "cell_type": "code",
   "execution_count": null,
   "id": "8b4dec68",
   "metadata": {},
   "outputs": [],
   "source": [
    "fig, axes = pplt.subplots(nrows=K, ncols=L, figwidth=10, space=0.175)\n",
    "for i in range(axes.shape[0]):\n",
    "    for j in range(axes.shape[1]):\n",
    "        ax = axes[i, j]\n",
    "        ax.pcolormesh(S[:, :, i, j].T, cmap='mono_r', ec='None')\n",
    "axes.format(\n",
    "    xticks=[], yticks=[], \n",
    "#     xlabel='x', ylabel='y',\n",
    ")\n",
    "# plt.savefig('_output/tomo_sim_target_scan_full.png', dpi=500)\n",
    "plt.show()"
   ]
  },
  {
   "cell_type": "markdown",
   "id": "3de1faea-c566-46ff-86a9-58b0ce9663bd",
   "metadata": {},
   "source": [
    "## Hock's method"
   ]
  },
  {
   "cell_type": "markdown",
   "id": "f1c64276-3784-4b6e-894f-420107cd588d",
   "metadata": {},
   "source": [
    "We'll reconstruct in normalized phase space."
   ]
  },
  {
   "cell_type": "code",
   "execution_count": null,
   "id": "03cebee9-d166-42a9-8a5c-b86a9b19277f",
   "metadata": {},
   "outputs": [],
   "source": [
    "tmats_x_n = [np.matmul(Mx, V[:2, :2]) for Mx in tmats_x]\n",
    "tmats_y_n = [np.matmul(My, V[2:, 2:]) for My in tmats_y]"
   ]
  },
  {
   "cell_type": "code",
   "execution_count": null,
   "id": "2e1c2bdc-ab93-4aa0-be2b-b98b47c678bc",
   "metadata": {},
   "outputs": [],
   "source": [
    "Z_hock = rec.hock4D(S, meas_centers, [rec_centers[0], rec_centers[2]], \n",
    "                    tmats_x_n, tmats_y_n, method='SART', iterations=3)\n",
    "Z_hock = rec.process(Z_hock, keep_positive=True, density=True, limits=rec_limits)"
   ]
  },
  {
   "cell_type": "code",
   "execution_count": null,
   "id": "6802f1d0-cfd6-47fa-bc4e-2c1f09102fd9",
   "metadata": {},
   "outputs": [],
   "source": [
    "print('min(Z) = {}'.format(np.min(Z_hock)))\n",
    "print('max(Z) = {}'.format(np.max(Z_hock)))\n",
    "print('sum(Z) * bin_volume = {}'.format(np.sum(Z_hock) * bin_volume))\n",
    "print()\n",
    "print('min(Z_true) = {}'.format(np.min(Z_true)))\n",
    "print('max(Z_true) = {}'.format(np.max(Z_true)))\n",
    "print('sum(Z_true) * bin_volume = {}'.format(np.sum(Z_true) * bin_volume))"
   ]
  },
  {
   "cell_type": "code",
   "execution_count": null,
   "id": "02434148-6ba0-4593-9de8-491782461d4d",
   "metadata": {},
   "outputs": [],
   "source": [
    "f_hock = Z_hock\n",
    "f_true = Z_true"
   ]
  },
  {
   "cell_type": "code",
   "execution_count": null,
   "id": "2f60bdc4-fce6-4670-8a5e-8b061e190388",
   "metadata": {},
   "outputs": [],
   "source": [
    "def plot_compare_1D(f1, f2):\n",
    "    fig, axes = pplt.subplots(ncols=6, nrows=3, figwidth=8)\n",
    "    inds = [(0, 2), (0, 1), (2, 3), (0, 3), (2, 1), (1, 3)]\n",
    "    dims = [\"x\", \"x'\", \"y\", \"y'\"]\n",
    "    for j, ind in enumerate(inds):\n",
    "        x = rec_centers[ind[0]]\n",
    "        y = rec_centers[ind[1]]\n",
    "        H1 = rec.project(f1, ind)\n",
    "        H2 = rec.project(f2, ind)\n",
    "        Hdiff = H1 - H2\n",
    "        for ax, H in zip(axes[:, j], [H1, H2, Hdiff]):\n",
    "            ax.pcolormesh(x, y, H.T)\n",
    "        axes[0, j].format(title=f'{dims[ind[0]]}-{dims[ind[1]]}')\n",
    "    plt.show()"
   ]
  },
  {
   "cell_type": "code",
   "execution_count": null,
   "id": "ca30f63b-0875-4159-9da9-d76008532917",
   "metadata": {},
   "outputs": [],
   "source": [
    "axes = plot_compare_1D(f_hock, f_true)\n",
    "# plt.savefig('_output/tomo_sim_rec_hock_proj_1D.png', dpi=500)"
   ]
  },
  {
   "cell_type": "markdown",
   "id": "0ff5def5-fa47-4433-8af5-6dc7ce9da854",
   "metadata": {},
   "source": [
    "Transform to unnormalized phase space."
   ]
  },
  {
   "cell_type": "markdown",
   "id": "024c5a57-7922-442e-b703-f045541c71ac",
   "metadata": {},
   "source": [
    "Study 2D reconstruction as function of number of angles and of the angular range."
   ]
  },
  {
   "cell_type": "code",
   "execution_count": null,
   "id": "5907b068-bdb0-4b58-a3f7-2aef9fe30674",
   "metadata": {
    "tags": []
   },
   "outputs": [],
   "source": [
    "# from skimage.transform import radon, iradon_sart, iradon\n",
    "\n",
    "# i1, i2 = 2, 3\n",
    "# bins = 50\n",
    "# z_true, _, _ = np.histogram2d(Xn[:, i1], Xn[:, i2], bins=bins, \n",
    "#                               range=[rec_limits[i1], rec_limits[i2]], density=True)\n",
    "\n",
    "# n_proj_list = np.arange(3, 30)\n",
    "# max_angles = np.linspace(5., 180., 50, endpoint=False)\n",
    "# errors = np.zeros((len(n_proj_list), len(max_angles)))    \n",
    "# for i in trange(errors.shape[0]):\n",
    "#     for j in range(errors.shape[1]):\n",
    "#         angles = np.linspace(0., max_angles[j], n_proj_list[i])\n",
    "#         projections = radon(z_true, theta=angles, circle=True)\n",
    "#         z = iradon_sart(projections, theta=angles)\n",
    "#         for _ in range(1):\n",
    "#             z = iradon_sart(projections, theta=angles, image=z)\n",
    "#         z = rec.process(z, keep_positive=True, density=True, limits=[rec_limits[i1], rec_limits[i2]])\n",
    "#         # if i == 0:\n",
    "#         #     fig, axes = pplt.subplots(ncols=2)\n",
    "#         #     axes[0].pcolormesh(xedges, yedges, Z_true.T, cmap='viridis',)\n",
    "#         #     axes[1].pcolormesh(xedges, yedges, Z.T, cmap='viridis',)\n",
    "#         #     plt.show()\n",
    "#         errors[i, j] = np.sqrt(np.sum((z - z_true)**2))\n",
    "        \n",
    "# fig, ax = pplt.subplots()\n",
    "# ax.pcolormesh(\n",
    "#     n_proj_list, max_angles, errors.T, cmap=pplt.Colormap('mono'), \n",
    "#     # vmin=0,\n",
    "#     colorbar=True, discrete=False,\n",
    "#     colorbar_kw=dict(label=r'$\\Vert Z - Z_{true} \\Vert$', width=0.1, space=1.0)\n",
    "# )\n",
    "# ax.format(yformatter='deg', ylabel='Angular range', xlabel='Number of projections')\n",
    "# plt.savefig('_output/tomo_sim_art2d.png', dpi=350)\n",
    "# plt.show()"
   ]
  },
  {
   "cell_type": "markdown",
   "id": "1f7081ff-f7ff-4b86-974d-8a5feb1fe573",
   "metadata": {},
   "source": [
    "## 4D ART "
   ]
  },
  {
   "cell_type": "markdown",
   "id": "4ecae19f-9a72-44ce-a8ec-bb316de0e59a",
   "metadata": {},
   "source": [
    "The maximum reconstruction grid resolution for this method is approximately 50."
   ]
  },
  {
   "cell_type": "code",
   "execution_count": null,
   "id": "15320ebc-3f63-469e-8864-abcac20b0859",
   "metadata": {},
   "outputs": [],
   "source": [
    "n_bins = 20\n",
    "Z_true2, rec_edges = np.histogramdd(Xn, n_bins, rec_limits, density=True)\n",
    "rec_centers = [rec.get_bin_centers(_edges) for _edges in rec_edges]\n",
    "bin_volume = rec.get_bin_volume(rec_limits, n_bins)"
   ]
  },
  {
   "cell_type": "code",
   "execution_count": null,
   "id": "38bdf177-582f-4f36-85c8-2d0b8b60993f",
   "metadata": {},
   "outputs": [],
   "source": [
    "meas_edges = [rec_edges[0], rec_edges[2]]\n",
    "meas_centers = [rec.get_bin_centers(_edges) for _edges in meas_edges]"
   ]
  },
  {
   "cell_type": "code",
   "execution_count": null,
   "id": "a70e95d7-a553-4f0c-88f8-910c4fb7eb7a",
   "metadata": {},
   "outputs": [],
   "source": [
    "K = 8 # number of horizontal optics settings\n",
    "L = 8 # number of vertical optics settings\n",
    "\n",
    "phase_adv_x = np.linspace(0.0, np.pi, K, endpoint=False)\n",
    "betas_x = np.random.uniform(1.0, 1.0, size=K)\n",
    "alphas_x = np.random.uniform(0.0, 0.0, size=K)\n",
    "\n",
    "phase_adv_y = np.linspace(0.0, np.pi, L, endpoint=False)\n",
    "betas_y = np.random.uniform(1.0, 1.0, size=L)\n",
    "alphas_y = np.random.uniform(0.0, 0.0, size=L)\n",
    "\n",
    "tmats_x = make_tmats(phase_adv_x, betas_x, alphas_x, Vinv[:2, :2])\n",
    "tmats_y = make_tmats(phase_adv_y, betas_y, alphas_y, Vinv[2:, 2:])\n",
    "xx_list = [utils.apply(Mx, X[:, :2])[:, 0] for Mx in tmats_x]\n",
    "yy_list = [utils.apply(My, X[:, 2:])[:, 0] for My in tmats_y]"
   ]
  },
  {
   "cell_type": "code",
   "execution_count": null,
   "id": "7f505644-74b2-4d7c-a637-2014acd7066d",
   "metadata": {},
   "outputs": [],
   "source": [
    "tmats_x_n = [np.matmul(Mx, V[:2, :2]) for Mx in tmats_x]\n",
    "tmats_y_n = [np.matmul(My, V[2:, 2:]) for My in tmats_y]\n",
    "projections, tmats_n = [], []\n",
    "for xx, Mx in zip(xx_list, tmats_x_n):\n",
    "    for yy, My in zip(yy_list, tmats_y_n):\n",
    "        projection, _, _ = np.histogram2d(xx, yy, meas_edges)\n",
    "        projections.append(projection)\n",
    "        M = np.zeros((4, 4))\n",
    "        M[:2, :2] = Mx\n",
    "        M[2:, 2:] = My\n",
    "        tmats_n.append(M)"
   ]
  },
  {
   "cell_type": "code",
   "execution_count": null,
   "id": "67674c64-e362-40f4-82db-888535c9215c",
   "metadata": {
    "scrolled": true,
    "tags": []
   },
   "outputs": [],
   "source": [
    "Z_art = rec.art4D(projections, tmats_n, rec_centers, meas_centers)\n",
    "Z_art = rec.process(Z_art, keep_positive=True, density=True, limits=rec_limits)"
   ]
  },
  {
   "cell_type": "code",
   "execution_count": null,
   "id": "ec1eaac7-1d21-46c9-9cb9-56e5fac72e43",
   "metadata": {},
   "outputs": [],
   "source": [
    "axes = plot_compare_1D(Z_art, Z_true2)"
   ]
  },
  {
   "cell_type": "code",
   "execution_count": null,
   "id": "7fe999a5-d8ab-4e13-9f07-f5aeeed938f8",
   "metadata": {},
   "outputs": [],
   "source": [
    "from tools.plotting2 import interactive_proj2d"
   ]
  },
  {
   "cell_type": "code",
   "execution_count": null,
   "id": "3e4aac78-cf56-49d3-93fe-b048117d0f68",
   "metadata": {},
   "outputs": [],
   "source": [
    "interactive_proj2d(Z_art / Z_art.max(), dims=[\"x\", \"xp\", \"y\", \"yp\"], coords=rec_centers)"
   ]
  },
  {
   "cell_type": "markdown",
   "id": "f7ab549e-2e9c-4c4e-a0a9-3d7c80a4f7af",
   "metadata": {},
   "source": [
    "## Particle-based"
   ]
  },
  {
   "cell_type": "code",
   "execution_count": null,
   "id": "df2f70fc-5c13-42f5-90cb-8c4deb34bd74",
   "metadata": {},
   "outputs": [],
   "source": [
    "importlib.reload(rec)"
   ]
  },
  {
   "cell_type": "code",
   "execution_count": null,
   "id": "de7db78b-7a5d-43eb-bf82-64ea6bafa970",
   "metadata": {},
   "outputs": [],
   "source": [
    "projections = []\n",
    "tmats = []\n",
    "for k in np.arange(0, S.shape[2]):\n",
    "    for l in np.arange(0, S.shape[3]):\n",
    "        projections.append(S[:, :, k, l])\n",
    "        M = np.zeros((4, 4))\n",
    "        M[:2, :2] = tmats_x[k]\n",
    "        M[2:, 2:] = tmats_y[l]\n",
    "        tmats.append(M)\n",
    "Z_pic, _proj = rec.pic4D(projections, tmats, rec_centers, screen_edges, max_iters=15)"
   ]
  },
  {
   "cell_type": "code",
   "execution_count": null,
   "id": "6d1c9351-6f9b-47ec-a967-9a52f5a47d26",
   "metadata": {},
   "outputs": [],
   "source": [
    "compare(Z_pic, Z_true)"
   ]
  },
  {
   "cell_type": "code",
   "execution_count": null,
   "id": "344e8b50-38c2-40d7-a96e-2ba0625eec57",
   "metadata": {},
   "outputs": [],
   "source": []
  },
  {
   "cell_type": "code",
   "execution_count": null,
   "id": "7331fc04-2e8d-445d-b92c-cbf94d5c5f14",
   "metadata": {},
   "outputs": [],
   "source": []
  },
  {
   "cell_type": "code",
   "execution_count": null,
   "id": "328104c4-d447-4179-9694-1e3551baa1d6",
   "metadata": {},
   "outputs": [],
   "source": [
    "Z = np.load('_output/Z_hock.npy')\n",
    "Z_true = np.load('_output/Z_true.npy')\n",
    "\n",
    "space = 0.5\n",
    "indices = [(0, 1), (2, 3), (0, 2), (0, 3), (2, 1), (1, 3)]\n",
    "labels = [\"x\", \"x'\", \"y\", \"y'\"]\n",
    "plot_kws = dict(cmap='mono_r', ec='None')\n",
    "fig, axes = pplt.subplots(nrows=6, ncols=3, figsize=(5.0, 8.5),\n",
    "                          sharex=False, sharey=False, space=space)\n",
    "for row, (i, j) in enumerate(indices):\n",
    "    _Z_true = rec.project(Z_true, [i, j])\n",
    "    _Z = rec.project(Z, [i, j])\n",
    "    axes[row, 0].pcolormesh(_Z_true.T, **plot_kws)\n",
    "    axes[row, 1].pcolormesh(_Z.T, **plot_kws)\n",
    "    axes[row, 2].pcolormesh((_Z - _Z_true).T, \n",
    "                            diverging=True, cmap='Vlag',\n",
    "                            colorbar=True, ec='None',\n",
    "                            colorbar_kw=dict(width=0.075, space=space, ticklabelsize='small')\n",
    "                            )\n",
    "    axes[row, 0].annotate('{}-{}'.format(labels[i], labels[j]),\n",
    "                           xy=(0.02, 0.92), xycoords='axes fraction', color='white', \n",
    "                           fontsize='medium')\n",
    "for ax, title in zip(axes[0, :], ['True', 'Reconstructed', 'Error']):\n",
    "    ax.set_title(title)\n",
    "axes.format(xticks=[], yticks=[])\n",
    "plt.savefig('_output/tomo_sim_rec_hock_proj_2D_ver.png', dpi=500)\n",
    "plt.show()"
   ]
  },
  {
   "cell_type": "code",
   "execution_count": null,
   "id": "f5e7c86c-0355-415d-ae50-02d94eeec37e",
   "metadata": {},
   "outputs": [],
   "source": []
  }
 ],
 "metadata": {
  "kernelspec": {
   "display_name": "Python 3",
   "language": "python",
   "name": "python3"
  },
  "language_info": {
   "codemirror_mode": {
    "name": "ipython",
    "version": 3
   },
   "file_extension": ".py",
   "mimetype": "text/x-python",
   "name": "python",
   "nbconvert_exporter": "python",
   "pygments_lexer": "ipython3",
   "version": "3.7.6"
  }
 },
 "nbformat": 4,
 "nbformat_minor": 5
}
